{
 "cells": [
  {
   "cell_type": "markdown",
   "metadata": {},
   "source": [
    "### Color Classifier Project\n",
    "\n",
    "This document presents a simulated overview of developing a color classifier using a machine learning framework, such as PyTorch or TensorFlow. It describes a typical setup where labeled training data is categorized into directories named after colors (red, green, blue). \n",
    "\n",
    "For demonstration we assume the data loading routine in PyTorch would partition the dataset into training and testing subsets, usually with an 80/20 split, to prepare for model training.\n",
    "\n",
    "Subsequently, we discuss a hypothetical scenario where an image classifier, such as a Convolutional Neural Network (CNN), is designed and executed. This example further assumes that a working model was created and is ready for testing with real-world data.\n",
    "\n",
    "**Important Note**: When ML modeling it is of critical importance to separate training and testing datasets to prevent data leakage and overfitting.\n",
    "\n",
    "The classifier, in this narrative, has been constructed during the described training simulations. For illustrative purposes, this example uses the `RGB_Classifier` function to show how the classifier might operate.\n",
    "\n",
    "For demonstration, three 3x3 pixel images in an 8-bit format are created. These images are used to show typical results: \n",
    "\n",
    "Two are expected to be classified as blue and green, while the third might remain unclassified, illustrating a common approach to training and applying a machine learning model in a controlled, educational setting.\n",
    "\n",
    "#### Image creation \n",
    "For demo purposes we create 2 images. One predominantly blue and one mostly green. "
   ]
  },
  {
   "cell_type": "code",
   "execution_count": 50,
   "metadata": {},
   "outputs": [],
   "source": [
    "from PIL import Image\n",
    "import numpy as np\n",
    "\n",
    "def create_image(width, height, rgb_values, image_name='color_image.png'):\n",
    "    # Create an array of zeros with the shape (height, width, 3) for RGB\n",
    "    array = np.zeros((height, width, 3), dtype=np.uint8)\n",
    "\n",
    "    # Set RGB values for each pixel\n",
    "    for y in range(height):\n",
    "        for x in range(width):\n",
    "            array[y, x] = rgb_values[y][x]\n",
    "\n",
    "    # Create an Image from the numpy array\n",
    "    img = Image.fromarray(array, 'RGB')\n",
    "    img.save(image_name)  # Save the image to a file\n",
    "    return img\n",
    "\n",
    "\n",
    "# Create BLUE example image:\n",
    "width = 3\n",
    "height = 3\n",
    "rgb_values = [\n",
    "    [(0, 0, 255), (0, 0, 255), (0, 0, 255)], \n",
    "    [(0, 0, 255), (0, 0, 255), (0, 0, 255)],  \n",
    "    [(0, 0, 255), (255, 0, 0),   (255, 0, 0)]  \n",
    "]\n",
    "image_name = 'almost_blue.png'\n",
    "image = create_image(width, height, rgb_values, image_name=image_name)\n",
    "\n",
    "\n",
    "# image.show() \n",
    "# display(image)\n",
    "\n",
    "# Create GREEN example image:\n",
    "width = 3\n",
    "height = 3\n",
    "rgb_values = [\n",
    "    [(0, 255, 0), (0, 255, 0), (0, 255, 0)], \n",
    "    [(0, 255, 0), (0, 255, 0), (0, 255, 0)],  \n",
    "    [(0, 255, 0), (255, 0, 0),   (255, 0, 0)]  \n",
    "]\n",
    "image_name = 'almost_green.png'\n",
    "image = create_image(width, height, rgb_values, image_name=image_name)\n",
    "\n",
    "# Create Mix example image:\n",
    "width = 3\n",
    "height = 3\n",
    "rgb_values = [\n",
    "    [(255, 255, 255), (255, 255, 255), (255, 255, 255)], \n",
    "    [(255, 255, 255), (255, 255, 255), (255, 255, 255)],  \n",
    "    [(255, 255, 255), (255, 255, 255), (255, 255, 255)]  \n",
    "]\n",
    "image_name = 'almost_mix.png'\n",
    "image = create_image(width, height, rgb_values, image_name=image_name)\n",
    "\n",
    "\n",
    "# image.show() \n",
    "# display(image)"
   ]
  },
  {
   "cell_type": "markdown",
   "metadata": {},
   "source": [
    "## Classifier\n",
    "The basic classifier function below takes an 8bit RGB image, loads it into a numpy array, calculates the mean values of all RGB values per pixel and returns the value and the classification based on the conditions outlined below."
   ]
  },
  {
   "cell_type": "code",
   "execution_count": 51,
   "metadata": {},
   "outputs": [],
   "source": [
    "def RGB_classifier(image_path):\n",
    "    # Import necessary libraries\n",
    "    from PIL import Image\n",
    "    import numpy as np\n",
    "\n",
    "    # Open the image file from the given path and ensure it is in RGB format\n",
    "    # This step is necessary to handle different image formats uniformly\n",
    "    image = Image.open(image_path)\n",
    "    image = image.convert('RGB')\n",
    "    \n",
    "    # Convert the RGB image into a 3D NumPy array\n",
    "    # The array structure will be (height, width, RGB channels)\n",
    "    pixels = np.array(image)\n",
    "\n",
    "    # Calculate the mean (average) RGB values across all pixels\n",
    "    # np.mean calculates the mean along the specified axes (0 for height, 1 for width)\n",
    "    # The result is a 1D array with three elements, each representing the mean of R, G, and B channels\n",
    "    mean_colors = np.mean(pixels, axis=(0, 1))\n",
    "    \n",
    "    # Print the mean colors to see the average RGB values\n",
    "    # print(mean_colors)\n",
    "    \n",
    "    # Determine the dominant RGB color based on the highest mean value\n",
    "    # Compare each color's mean value and decide which one is the highest\n",
    "    # This establishes which color is dominant in the image\n",
    "    dominant_color = 'Unclassified'\n",
    "    if mean_colors[0] > mean_colors[1] and mean_colors[0] > mean_colors[2]:\n",
    "        dominant_color = 'Red'\n",
    "    elif mean_colors[1] > mean_colors[0] and mean_colors[1] > mean_colors[2]:\n",
    "        dominant_color = 'Green'\n",
    "    elif mean_colors[2] > mean_colors[0] and mean_colors[2] > mean_colors[1]:\n",
    "        dominant_color = 'Blue'\n",
    "    \n",
    "    # Return the dominant color and the mean RGB values as a tuple\n",
    "    # This can be useful for further analysis or display purposes\n",
    "    return dominant_color, mean_colors\n"
   ]
  },
  {
   "cell_type": "markdown",
   "metadata": {},
   "source": [
    "## Testing the classifier\n",
    "We have a blue and a green image and expect the results to be accordingly. To confirm the classifier works reasonably well create one image the is not RG or B but a mix that would be considered outside the valid scope. We expect this example to be taged as Unclassified."
   ]
  },
  {
   "cell_type": "code",
   "execution_count": 52,
   "metadata": {},
   "outputs": [
    {
     "name": "stdout",
     "output_type": "stream",
     "text": [
      "Dominant Color: Blue\n",
      "Mean RGB Values: [ 56.66666667   0.         198.33333333]\n",
      "------------------------------------------\n",
      "Dominant Color: Green\n",
      "Mean RGB Values: [ 56.66666667 198.33333333   0.        ]\n",
      "------------------------------------------\n",
      "Dominant Color: Unclassified\n",
      "Mean RGB Values: [255. 255. 255.]\n"
     ]
    }
   ],
   "source": [
    "color, means = RGB_classifier(\"almost_blue.png\")\n",
    "print(\"Dominant Color:\", color)\n",
    "print(\"Mean RGB Values:\", means)\n",
    "\n",
    "print(\"------------------------------------------\")\n",
    "\n",
    "color, means = RGB_classifier(\"almost_green.png\")\n",
    "print(\"Dominant Color:\", color)\n",
    "print(\"Mean RGB Values:\", means)\n",
    "\n",
    "print(\"------------------------------------------\")\n",
    "\n",
    "color, means = RGB_classifier(\"almost_mix.png\")\n",
    "print(\"Dominant Color:\", color)\n",
    "print(\"Mean RGB Values:\", means)"
   ]
  }
 ],
 "metadata": {
  "kernelspec": {
   "display_name": "ai-basics-assessment-project-24-wdxTiQpR-py3.12",
   "language": "python",
   "name": "python3"
  },
  "language_info": {
   "codemirror_mode": {
    "name": "ipython",
    "version": 3
   },
   "file_extension": ".py",
   "mimetype": "text/x-python",
   "name": "python",
   "nbconvert_exporter": "python",
   "pygments_lexer": "ipython3",
   "version": "3.12.2"
  }
 },
 "nbformat": 4,
 "nbformat_minor": 2
}
