{
 "cells": [
  {
   "cell_type": "markdown",
   "metadata": {},
   "source": [
    "# RGB Classifier Functions ..."
   ]
  },
  {
   "cell_type": "code",
   "execution_count": 1,
   "metadata": {},
   "outputs": [],
   "source": [
    "# IN: image.jpg\n",
    "# OUT: [255, 255, 255]\n",
    "# Create a function that extract the colour value for a given image and return it as an array of RGB values.   \n",
    "\n",
    "import numpy as np\n",
    "from PIL import Image\n",
    "\n",
    "def get_rgb(image_path):\n",
    "    img = Image.open(image_path)\n",
    "    img_array = np.array(img)\n",
    "    return img_array.reshape(-1, 4).tolist()[0]\n",
    "    \n",
    "    \n"
   ]
  },
  {
   "cell_type": "code",
   "execution_count": 3,
   "metadata": {},
   "outputs": [
    {
     "name": "stdout",
     "output_type": "stream",
     "text": [
      "['./training_data/green/Screenshot 2024-03-18 at 11.14.25.png', './training_data/blue/Screenshot 2024-03-18 at 15.10.14.png']\n"
     ]
    }
   ],
   "source": [
    "import os\n",
    "# IN: directory\n",
    "# OUT: [\"image_path/image1.jpg\", \"image_path/image2.jpg\", \"image_path/image3.jpg]\n",
    "# Note: image path holds label for the image e.g. RED, green, blue ...\n",
    "# create a function that interates through a given directory and all sub directories and returns a list of images and it's path\n",
    "# BEGIN: FILEPATH: /Users/kashigrobe/Documents/DEV/Code University/Assessments/AI_basics_assessment_project_24/RGB_classifier.ipynb\n",
    "\n",
    "def get_image_paths(directory):\n",
    "    image_paths = []\n",
    "    for root, dirs, files in os.walk(directory):\n",
    "        for file in files:\n",
    "            if file.endswith(\".jpg\") or file.endswith(\".png\"):\n",
    "                image_path = os.path.join(root, file)\n",
    "                image_paths.append(image_path)\n",
    "    return image_paths\n",
    "\n",
    "# END: FILEPATH: /Users/kashigrobe/Documents/DEV/Code University/Assessments/AI_basics_assessment_project_24/RGB_classifier.ipynb\n",
    "\n",
    "list_of_images = get_image_paths(\"./training_data/\")\n",
    "print(list_of_images)"
   ]
  },
  {
   "cell_type": "code",
   "execution_count": 9,
   "metadata": {},
   "outputs": [
    {
     "name": "stdout",
     "output_type": "stream",
     "text": [
      "Color: green, File Name: Screenshot 2024-03-18 at 11.14.25.png\n",
      "Color: blue, File Name: Screenshot 2024-03-18 at 15.10.14.png\n",
      "Red Count: 0\n",
      "Green Count: 1\n",
      "Blue Count: 1\n"
     ]
    }
   ],
   "source": [
    "# Initialize counters for three colors\n",
    "red_count = 0\n",
    "green_count = 0\n",
    "blue_count = 0\n",
    "\n",
    "# get the image values for 5 images from the list of images\n",
    "color_counts = {}\n",
    "\n",
    "for image_path in list_of_images[:5]:\n",
    "    components = image_path.split('/')\n",
    "    # The color is the second to last component\n",
    "    color = components[-2]\n",
    "    # The file name is the last component\n",
    "    file_name = components[-1]\n",
    "    print(f\"Color: {color}, File Name: {file_name}\")\n",
    "    \n",
    "    # Increment the appropriate color counter\n",
    "    if color == 'red':\n",
    "        red_count += 1\n",
    "    elif color == 'green':\n",
    "        green_count += 1\n",
    "    elif color == 'blue':\n",
    "        blue_count += 1\n",
    "\n",
    "print(f\"Red Count: {red_count}\")\n",
    "print(f\"Green Count: {green_count}\")\n",
    "print(f\"Blue Count: {blue_count}\")\n",
    "\n",
    "# Print the counts for each color\n",
    "for color, count in color_counts.items():\n",
    "    print(f\"Color: {color}, Count: {count}\")"
   ]
  },
  {
   "cell_type": "code",
   "execution_count": null,
   "metadata": {},
   "outputs": [],
   "source": []
  }
 ],
 "metadata": {
  "kernelspec": {
   "display_name": "ai-basics-assessment-project-24-wdxTiQpR-py3.12",
   "language": "python",
   "name": "python3"
  },
  "language_info": {
   "codemirror_mode": {
    "name": "ipython",
    "version": 3
   },
   "file_extension": ".py",
   "mimetype": "text/x-python",
   "name": "python",
   "nbconvert_exporter": "python",
   "pygments_lexer": "ipython3",
   "version": "3.12.2"
  }
 },
 "nbformat": 4,
 "nbformat_minor": 2
}
